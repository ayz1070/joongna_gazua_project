{
 "cells": [
  {
   "cell_type": "code",
   "execution_count": null,
   "id": "d84a1eee-2d56-4ae2-b0cd-1c1675a7a60f",
   "metadata": {},
   "outputs": [],
   "source": [
    "# 필요한 라이브러리 설치:\n",
    "!pip install google-play-scraper\n",
    "!pip install konlpy\n",
    "!pip uninstall JPype1-py3\n",
    "!pip install JPype1\n"
   ]
  },
  {
   "cell_type": "code",
   "execution_count": null,
   "id": "b71f6969-7ba4-4658-9c10-7d1606d7b799",
   "metadata": {},
   "outputs": [],
   "source": [
    "import re\n",
    "from google_play_scraper import reviews, Sort\n",
    "from konlpy.tag import Okt\n",
    "from collections import Counter\n",
    "\n",
    "def fetch_reviews(app_id, total_reviews=500):\n",
    "    \"\"\"Google Play Store에서 total_reviews 수 만큼 리뷰를 가져옵니다.\"\"\"\n",
    "    all_reviews = []\n",
    "    count = 100  # 한 번에 요청할 리뷰 개수\n",
    "    token = None\n",
    "\n",
    "    while len(all_reviews) < total_reviews:\n",
    "        result, token = reviews(\n",
    "            app_id,\n",
    "            lang='ko',\n",
    "            country='kr',\n",
    "            sort=Sort.NEWEST,\n",
    "            count=count,\n",
    "            continuation_token=token\n",
    "        )\n",
    "        all_reviews.extend(result)\n",
    "        if token is None:\n",
    "            break  # 더 이상 리뷰가 없으면 종료\n",
    "    return all_reviews[:total_reviews]\n",
    "\n",
    "def analyze_reviews(review_list):\n",
    "    \"\"\"리뷰 목록에서 텍스트를 결합하여 명사를 추출한 후 빈도 상위 10개 단어를 반환합니다.\"\"\"\n",
    "    okt = Okt()\n",
    "    # 모든 리뷰의 텍스트를 하나의 문자열로 결합\n",
    "    all_text = \" \".join([review['content'] for review in review_list])\n",
    "    # 한글과 공백을 제외한 문자 제거\n",
    "    all_text = re.sub(r'[^가-힣\\s]', '', all_text)\n",
    "    \n",
    "    # 명사 추출\n",
    "    nouns = okt.nouns(all_text)\n",
    "    \n",
    "    # 불용어 처리 (필요에 따라 추가 가능)\n",
    "    stopwords = set(['이', '그', '저', '것', '들', '의', '있', '하', '되', '수'])\n",
    "    # 한 글자 단어 및 불용어 제거\n",
    "    nouns = [noun for noun in nouns if noun not in stopwords and len(noun) > 1]\n",
    "    \n",
    "    counter = Counter(nouns)\n",
    "    top_10 = counter.most_common(10)\n",
    "    return top_10\n",
    "\n",
    "if __name__ == \"__main__\":\n",
    "    # 중고나라 앱의 패키지명 (실제 앱의 패키지명으로 변경하세요)\n",
    "    app_id = 'com.joongonara'\n",
    "    \n",
    "    print(\"리뷰를 수집 중입니다...\")\n",
    "    reviews_data = fetch_reviews(app_id, total_reviews=500)\n",
    "    print(f\"{len(reviews_data)}개의 리뷰를 수집했습니다.\")\n",
    "    \n",
    "    top_words = analyze_reviews(reviews_data)\n",
    "    print(\"가장 많이 나온 단어 TOP 10:\")\n",
    "    for rank, (word, freq) in enumerate(top_words, start=1):\n",
    "        print(f\"{rank}위: {word} - {freq}회\")"
   ]
  },
  {
   "cell_type": "code",
   "execution_count": null,
   "id": "77ad41aa-4f78-4265-bd16-0fdbd8f91076",
   "metadata": {},
   "outputs": [],
   "source": []
  }
 ],
 "metadata": {
  "kernelspec": {
   "display_name": "Python 3 (ipykernel)",
   "language": "python",
   "name": "python3"
  },
  "language_info": {
   "codemirror_mode": {
    "name": "ipython",
    "version": 3
   },
   "file_extension": ".py",
   "mimetype": "text/x-python",
   "name": "python",
   "nbconvert_exporter": "python",
   "pygments_lexer": "ipython3",
   "version": "3.12.7"
  }
 },
 "nbformat": 4,
 "nbformat_minor": 5
}
